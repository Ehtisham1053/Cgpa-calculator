{
  "nbformat": 4,
  "nbformat_minor": 0,
  "metadata": {
    "colab": {
      "provenance": [],
      "authorship_tag": "ABX9TyMmk+0eD5KZDyVce0GGeUxl",
      "include_colab_link": true
    },
    "kernelspec": {
      "name": "python3",
      "display_name": "Python 3"
    },
    "language_info": {
      "name": "python"
    }
  },
  "cells": [
    {
      "cell_type": "markdown",
      "metadata": {
        "id": "view-in-github",
        "colab_type": "text"
      },
      "source": [
        "<a href=\"https://colab.research.google.com/github/Ehtisham1053/Cgpa-calculator/blob/main/NameSpace_Decorator.ipynb\" target=\"_parent\"><img src=\"https://colab.research.google.com/assets/colab-badge.svg\" alt=\"Open In Colab\"/></a>"
      ]
    },
    {
      "cell_type": "markdown",
      "source": [
        "# 📘 Namespace in Python\n",
        "\n",
        "## 📌 What is a Namespace?\n",
        "\n",
        "A **namespace** is a container that holds a mapping between names (identifiers) and objects (variables, functions, classes, etc.). It ensures that names are unique and prevents naming conflicts in Python programs.\n",
        "\n",
        "In simple terms, it’s like a dictionary where the keys are variable names and the values are the objects.\n",
        "\n",
        "---\n",
        "\n",
        "## 🧠 Why Use Namespace?\n",
        "\n",
        "- Avoids name collisions.\n",
        "- Organizes code for better readability.\n",
        "- Makes debugging easier.\n",
        "- Helps Python know where to find and store variables.\n",
        "\n",
        "---\n",
        "\n",
        "## 🗂️ Types of Namespaces in Python\n",
        "\n",
        "### 1️⃣ **Built-in Namespace**\n",
        "- Created when the Python interpreter starts.\n",
        "- Contains built-in functions and exceptions.\n",
        "- Example: `print()`, `len()`, `type()`\n",
        "\n",
        "---\n",
        "\n",
        "### 2️⃣ **Global Namespace**\n",
        "- Created when a script or module is run.\n",
        "- Includes functions, classes, and variables defined at the top-level of a module.\n",
        "- Each module has its own global namespace.\n",
        "\n",
        "---\n",
        "\n",
        "### 3️⃣ **Local Namespace**\n",
        "- Created when a function is called.\n",
        "- Contains local variables defined inside the function.\n",
        "- It exists temporarily and is destroyed once the function returns.\n",
        "\n",
        "---\n",
        "\n",
        "### 4️⃣ **Enclosing Namespace**\n",
        "- Specific to nested functions (functions inside functions).\n",
        "- The enclosing function’s local namespace acts as an enclosing namespace for the inner function.\n",
        "\n",
        "---\n",
        "\n",
        "## 🔄 Scope and Namespace\n",
        "\n",
        "The **scope** defines the visibility of a name (variable/function) within a program. Python uses the **LEGB Rule** for resolving names:\n",
        "\n",
        "| Level     | Namespace         | Description                           |\n",
        "|-----------|-------------------|---------------------------------------|\n",
        "| L         | Local             | Names inside the current function     |\n",
        "| E         | Enclosing         | Names in enclosing functions          |\n",
        "| G         | Global            | Names defined at the top-level script |\n",
        "| B         | Built-in          | Names preassigned in Python           |\n",
        "\n",
        "---\n",
        "\n",
        "## ✅ Summary\n",
        "\n",
        "- Namespaces help Python know where to look for names.\n",
        "- They are essential for organizing and resolving variable/function/class names.\n",
        "- LEGB rule is used to resolve the scope and precedence of variable names.\n"
      ],
      "metadata": {
        "id": "Ubvq-6DqmUYj"
      }
    },
    {
      "cell_type": "code",
      "execution_count": 1,
      "metadata": {
        "colab": {
          "base_uri": "https://localhost:8080/"
        },
        "id": "YaJPc-05lEPx",
        "outputId": "a45a9a3e-edee-4621-b7dc-2d49916206b4"
      },
      "outputs": [
        {
          "output_type": "stream",
          "name": "stdout",
          "text": [
            "5\n",
            "Accessing Global Variable: Global Variable\n",
            "Accessing Local Variable inside function: Local Variable\n",
            "Accessing Enclosing Variable: Enclosing Variable\n"
          ]
        }
      ],
      "source": [
        "# ✅ Built-in Namespace Example\n",
        "print(len(\"Hello\"))  # len is a built-in function\n",
        "\n",
        "# -------------------------------------------------\n",
        "\n",
        "# ✅ Global Namespace\n",
        "x = \"Global Variable\"\n",
        "\n",
        "def global_example():\n",
        "    print(\"Accessing Global Variable:\", x)\n",
        "\n",
        "global_example()\n",
        "\n",
        "# -------------------------------------------------\n",
        "\n",
        "# ✅ Local Namespace\n",
        "def local_example():\n",
        "    y = \"Local Variable\"\n",
        "    print(\"Accessing Local Variable inside function:\", y)\n",
        "\n",
        "local_example()\n",
        "# print(y)  # ❌ This will give an error because y is not defined in global scope\n",
        "\n",
        "# -------------------------------------------------\n",
        "\n",
        "# ✅ Enclosing Namespace\n",
        "def outer_function():\n",
        "    z = \"Enclosing Variable\"\n",
        "\n",
        "    def inner_function():\n",
        "        print(\"Accessing Enclosing Variable:\", z)\n",
        "\n",
        "    inner_function()\n",
        "\n",
        "outer_function()\n"
      ]
    },
    {
      "cell_type": "code",
      "source": [],
      "metadata": {
        "id": "3qNSSfNTmmiM"
      },
      "execution_count": null,
      "outputs": []
    },
    {
      "cell_type": "markdown",
      "source": [
        "# 📘 LEGB Rule in Python\n",
        "\n",
        "Python uses the **LEGB** rule to resolve the order in which **names (variables/functions)** are searched during execution. It stands for:\n",
        "\n",
        "### 🔹 L – Local\n",
        "The innermost scope. Names assigned within a function or lambda expression. Python first looks here.\n",
        "\n",
        "```python\n",
        "def func():\n",
        "    x = 10  # Local scope\n",
        "    print(x)\n",
        "```\n",
        "\n",
        "\n",
        "## 🔹 E – Enclosing\n",
        "Any and all enclosing functions’ scopes. This applies to nested functions (functions defined inside another function).\n",
        "\n",
        "```python\n",
        "def outer():\n",
        "    x = \"Enclosing\"\n",
        "    def inner():\n",
        "        print(x)  # Will find x in enclosing scope\n",
        "    inner()\n",
        "\n",
        "```\n",
        "\n",
        "\n",
        "## 🔹 G – Global\n",
        "The top-level of the script or module. Variables declared outside all functions belong to the global scope.\n",
        "\n",
        "```python\n",
        "x = \"Global\"\n",
        "\n",
        "def func():\n",
        "    print(x)  # Will find x in global scope\n",
        "func()\n",
        "\n",
        "\n",
        "```\n",
        "\n",
        "\n",
        "## 🔹 B – Built-in\n",
        "The outermost scope. Names preassigned in the built-in names module (e.g., len, range, print).\n",
        "\n",
        "```python\n",
        "print(len(\"Python\"))  # len is a built-in function\n",
        "\n",
        "\n",
        "```\n",
        "\n",
        "## Search order\n",
        "Local → Enclosing → Global → Built-in\n"
      ],
      "metadata": {
        "id": "HF-eusTSnD9m"
      }
    },
    {
      "cell_type": "code",
      "source": [],
      "metadata": {
        "id": "1pgajhfGnYuv"
      },
      "execution_count": null,
      "outputs": []
    },
    {
      "cell_type": "markdown",
      "source": [
        "# Decorator"
      ],
      "metadata": {
        "id": "C-g-BR1VoX8Q"
      }
    },
    {
      "cell_type": "markdown",
      "source": [
        "# 🎯 Python Decorators (Text Format Syntax)\n",
        "\n",
        "## 📌 What is a Decorator?\n",
        "\n",
        "A **decorator** in Python is a design pattern that allows you to **modify or enhance the behavior of functions or methods** without changing their actual code.\n",
        "\n",
        "Decorators are applied using the `@decorator_name` syntax just above a function definition.\n",
        "\n",
        "---\n",
        "\n",
        "## 💡 Why Use Decorators?\n",
        "\n",
        "- Code reuse\n",
        "- Separation of concerns\n",
        "- Logging, timing, authentication, validation, etc.\n",
        "\n",
        "---\n",
        "\n",
        "## 🧠 Key Concepts:\n",
        "\n",
        "### ✅ Functions are First-Class Objects\n",
        "Functions in Python can be:\n",
        "- Assigned to variables\n",
        "- Passed as arguments\n",
        "- Returned from other functions\n",
        "\n",
        "This feature makes decorators possible.\n",
        "\n",
        "---\n",
        "\n",
        "## 🔧 Anatomy of a Decorator\n",
        "\n",
        "A decorator is essentially a function that:\n",
        "1. Takes another function as input.\n",
        "2. Adds some functionality.\n",
        "3. Returns a new function.\n",
        "\n",
        "---\n",
        "\n",
        "### 🔹 Syntax\n",
        "\n",
        "```python\n",
        "@decorator_name\n",
        "def my_function():\n",
        "    # original function code\n"
      ],
      "metadata": {
        "id": "AOXvxEEjoit-"
      }
    },
    {
      "cell_type": "markdown",
      "source": [
        "✅ Use Cases\n",
        "* Logging function calls\n",
        "\n",
        "* Access control and authentication\n",
        "\n",
        "* Caching and memoization\n",
        "\n",
        "* Measuring execution time\n",
        "\n",
        "* Input validation"
      ],
      "metadata": {
        "id": "rZKwLKaGo1MC"
      }
    },
    {
      "cell_type": "markdown",
      "source": [
        "📂 Types of Decorators\n",
        "* Function-Based Decorators\n",
        "\n",
        "* Class-Based Decorators\n",
        "\n",
        "* Built-in Decorators"
      ],
      "metadata": {
        "id": "o6xXT1pLonpe"
      }
    },
    {
      "cell_type": "markdown",
      "source": [
        "### ✅ 1. Function-Based Decorator"
      ],
      "metadata": {
        "id": "XUXx46-xo-o5"
      }
    },
    {
      "cell_type": "code",
      "source": [
        "def logger(func):\n",
        "    \"\"\"\n",
        "    📘 A function-based decorator that logs the name of the function being called.\n",
        "    \"\"\"\n",
        "    def wrapper(*args, **kwargs):\n",
        "        print(f\"🔔 Calling function: {func.__name__}\")\n",
        "        return func(*args, **kwargs)\n",
        "    return wrapper\n",
        "\n",
        "@logger\n",
        "def greet(name):\n",
        "    \"\"\"Returns a greeting message.\"\"\"\n",
        "    return f\"Hello, {name}!\"\n",
        "\n",
        "# Test\n",
        "print(greet(\"Ehtisham\"))\n"
      ],
      "metadata": {
        "colab": {
          "base_uri": "https://localhost:8080/"
        },
        "id": "yr37x2lZoZPi",
        "outputId": "e05556b9-e769-4ec6-dbef-66e8da9d1359"
      },
      "execution_count": 2,
      "outputs": [
        {
          "output_type": "stream",
          "name": "stdout",
          "text": [
            "🔔 Calling function: greet\n",
            "Hello, Ehtisham!\n"
          ]
        }
      ]
    },
    {
      "cell_type": "markdown",
      "source": [
        "### ✅ 2. Class-Based Decorator"
      ],
      "metadata": {
        "id": "8ruW0COCpHlP"
      }
    },
    {
      "cell_type": "code",
      "source": [
        "class MultiplyDecorator:\n",
        "    \"\"\"\n",
        "    📘 A class-based decorator that multiplies the result of a function by a given factor.\n",
        "    \"\"\"\n",
        "    def __init__(self, factor):\n",
        "        self.factor = factor\n",
        "\n",
        "    def __call__(self, func):\n",
        "        def wrapper(*args, **kwargs):\n",
        "            result = func(*args, **kwargs)\n",
        "            print(f\"🔄 Multiplying result by {self.factor}\")\n",
        "            return result * self.factor\n",
        "        return wrapper\n",
        "\n",
        "@MultiplyDecorator(5)\n",
        "def get_number():\n",
        "    \"\"\"Returns a base number.\"\"\"\n",
        "    return 10\n",
        "\n",
        "# Test\n",
        "print(get_number())\n"
      ],
      "metadata": {
        "colab": {
          "base_uri": "https://localhost:8080/"
        },
        "id": "7SaGcEa3pIVM",
        "outputId": "ace5cad3-2b95-4def-89db-1f08c27289dc"
      },
      "execution_count": 3,
      "outputs": [
        {
          "output_type": "stream",
          "name": "stdout",
          "text": [
            "🔄 Multiplying result by 5\n",
            "50\n"
          ]
        }
      ]
    },
    {
      "cell_type": "code",
      "source": [],
      "metadata": {
        "id": "WaLcDe89pJk8"
      },
      "execution_count": null,
      "outputs": []
    },
    {
      "cell_type": "markdown",
      "source": [
        "## ✅ 3. Built-in Decorators"
      ],
      "metadata": {
        "id": "29uhFAcMpMTp"
      }
    },
    {
      "cell_type": "code",
      "source": [
        "class MathOperations:\n",
        "    \"\"\"\n",
        "    📘 Demonstrates the use of @staticmethod.\n",
        "    \"\"\"\n",
        "    @staticmethod\n",
        "    def add(a, b):\n",
        "        \"\"\"Adds two numbers.\"\"\"\n",
        "        return a + b\n",
        "\n",
        "# Test\n",
        "print(MathOperations.add(3, 4))\n"
      ],
      "metadata": {
        "colab": {
          "base_uri": "https://localhost:8080/"
        },
        "id": "sYrLn-mWpNFm",
        "outputId": "32ebf754-46c3-497d-da5b-2ba329319717"
      },
      "execution_count": 4,
      "outputs": [
        {
          "output_type": "stream",
          "name": "stdout",
          "text": [
            "7\n"
          ]
        }
      ]
    },
    {
      "cell_type": "code",
      "source": [],
      "metadata": {
        "id": "pw2JwpYPpOYk"
      },
      "execution_count": null,
      "outputs": []
    }
  ]
}